{
  "nbformat": 4,
  "nbformat_minor": 2,
  "metadata": {
    "colab": {
      "name": "spider-inference.ipynb",
      "provenance": []
    },
    "kernelspec": {
      "name": "python3",
      "display_name": "Python 3.9.5 64-bit"
    },
    "language_info": {
      "name": "python",
      "version": "3.9.5",
      "mimetype": "text/x-python",
      "codemirror_mode": {
        "name": "ipython",
        "version": 3
      },
      "pygments_lexer": "ipython3",
      "nbconvert_exporter": "python",
      "file_extension": ".py"
    },
    "accelerator": "GPU",
    "widgets": {
      "application/vnd.jupyter.widget-state+json": {
        "9a59c0ae70ff4375924a440b8d68ca12": {
          "model_module": "@jupyter-widgets/controls",
          "model_name": "VBoxModel",
          "model_module_version": "1.5.0",
          "state": {
            "_view_name": "VBoxView",
            "_dom_classes": [],
            "_model_name": "VBoxModel",
            "_view_module": "@jupyter-widgets/controls",
            "_model_module_version": "1.5.0",
            "_view_count": null,
            "_view_module_version": "1.5.0",
            "box_style": "",
            "layout": "IPY_MODEL_06eb109ba9b94c5ea331b51e04833dac",
            "_model_module": "@jupyter-widgets/controls",
            "children": [
              "IPY_MODEL_f457e3ed8db446a992a72bf1eaa2cae0",
              "IPY_MODEL_a2308af24c644111bea67fac2b20b32a",
              "IPY_MODEL_36e33a1833754112b8e8ab84b4336c3f",
              "IPY_MODEL_9c345adbba9c4c74bce2613cfa19163f",
              "IPY_MODEL_b29cbd08b6b74819b62c9de5808d5bd2"
            ]
          }
        },
        "06eb109ba9b94c5ea331b51e04833dac": {
          "model_module": "@jupyter-widgets/base",
          "model_name": "LayoutModel",
          "model_module_version": "1.2.0",
          "state": {
            "_view_name": "LayoutView",
            "grid_template_rows": null,
            "right": null,
            "justify_content": null,
            "_view_module": "@jupyter-widgets/base",
            "overflow": null,
            "_model_module_version": "1.2.0",
            "_view_count": null,
            "flex_flow": null,
            "width": null,
            "min_width": null,
            "border": null,
            "align_items": null,
            "bottom": null,
            "_model_module": "@jupyter-widgets/base",
            "top": null,
            "grid_column": null,
            "overflow_y": null,
            "overflow_x": null,
            "grid_auto_flow": null,
            "grid_area": null,
            "grid_template_columns": null,
            "flex": null,
            "_model_name": "LayoutModel",
            "justify_items": null,
            "grid_row": null,
            "max_height": null,
            "align_content": null,
            "visibility": null,
            "align_self": null,
            "height": null,
            "min_height": null,
            "padding": null,
            "grid_auto_rows": null,
            "grid_gap": null,
            "max_width": null,
            "order": null,
            "_view_module_version": "1.2.0",
            "grid_template_areas": null,
            "object_position": null,
            "object_fit": null,
            "grid_auto_columns": null,
            "margin": null,
            "display": null,
            "left": null
          }
        },
        "f457e3ed8db446a992a72bf1eaa2cae0": {
          "model_module": "@jupyter-widgets/controls",
          "model_name": "LabelModel",
          "model_module_version": "1.5.0",
          "state": {
            "_view_name": "LabelView",
            "style": "IPY_MODEL_df9c1de27c1c47858fcd601add5d51ad",
            "_dom_classes": [],
            "description": "",
            "_model_name": "LabelModel",
            "placeholder": "​",
            "_view_module": "@jupyter-widgets/controls",
            "_model_module_version": "1.5.0",
            "value": "Upload a picture!",
            "_view_count": null,
            "_view_module_version": "1.5.0",
            "description_tooltip": null,
            "_model_module": "@jupyter-widgets/controls",
            "layout": "IPY_MODEL_e5da3717c2d04102b19c2d0cc4668953"
          }
        },
        "a2308af24c644111bea67fac2b20b32a": {
          "model_module": "@jupyter-widgets/controls",
          "model_name": "FileUploadModel",
          "model_module_version": "1.5.0",
          "state": {
            "_view_name": "FileUploadView",
            "_counter": 2,
            "style": "IPY_MODEL_5c9d992a3bc74d8b867e29744d61d793",
            "_dom_classes": [],
            "description": "Upload",
            "multiple": false,
            "_model_name": "FileUploadModel",
            "data": [
              null
            ],
            "button_style": "",
            "_view_module": "@jupyter-widgets/controls",
            "_model_module_version": "1.5.0",
            "accept": "",
            "_view_count": null,
            "disabled": false,
            "_view_module_version": "1.5.0",
            "error": "",
            "description_tooltip": null,
            "metadata": [
              {
                "name": "images.jpeg",
                "type": "image/jpeg",
                "size": 3695,
                "lastModified": 1637315530796
              }
            ],
            "_model_module": "@jupyter-widgets/controls",
            "layout": "IPY_MODEL_10c1c34edd824d0dbf49e29ee06306bb",
            "icon": "upload"
          }
        },
        "36e33a1833754112b8e8ab84b4336c3f": {
          "model_module": "@jupyter-widgets/controls",
          "model_name": "ButtonModel",
          "model_module_version": "1.5.0",
          "state": {
            "_view_name": "ButtonView",
            "style": "IPY_MODEL_a1dba694eed540e4bd29e2f87601190d",
            "_dom_classes": [],
            "description": "Classify",
            "_model_name": "ButtonModel",
            "button_style": "",
            "_view_module": "@jupyter-widgets/controls",
            "_model_module_version": "1.5.0",
            "tooltip": "",
            "_view_count": null,
            "disabled": false,
            "_view_module_version": "1.5.0",
            "layout": "IPY_MODEL_a5b0925183eb48ceaa338782e0533e29",
            "_model_module": "@jupyter-widgets/controls",
            "icon": ""
          }
        },
        "9c345adbba9c4c74bce2613cfa19163f": {
          "model_module": "@jupyter-widgets/output",
          "model_name": "OutputModel",
          "model_module_version": "1.0.0",
          "state": {
            "_view_name": "OutputView",
            "msg_id": "",
            "_dom_classes": [],
            "_model_name": "OutputModel",
            "outputs": [
              {
                "output_type": "display_data",
                "data": {
                  "image/png": "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\n",
                  "text/plain": "<PIL.Image.Image image mode=RGB size=128x68 at 0x7EFC2DCAE990>"
                },
                "metadata": {}
              }
            ],
            "_view_module": "@jupyter-widgets/output",
            "_model_module_version": "1.0.0",
            "_view_count": null,
            "_view_module_version": "1.0.0",
            "layout": "IPY_MODEL_3b3a642ab3a14eae85abf3edf473dc16",
            "_model_module": "@jupyter-widgets/output"
          }
        },
        "b29cbd08b6b74819b62c9de5808d5bd2": {
          "model_module": "@jupyter-widgets/controls",
          "model_name": "LabelModel",
          "model_module_version": "1.5.0",
          "state": {
            "_view_name": "LabelView",
            "style": "IPY_MODEL_c1dff6c4ebc24aa8a9f9be9de4912e11",
            "_dom_classes": [],
            "description": "",
            "_model_name": "LabelModel",
            "placeholder": "​",
            "_view_module": "@jupyter-widgets/controls",
            "_model_module_version": "1.5.0",
            "value": "Prediction: spider Araneus; Probability: 0.9769",
            "_view_count": null,
            "_view_module_version": "1.5.0",
            "description_tooltip": null,
            "_model_module": "@jupyter-widgets/controls",
            "layout": "IPY_MODEL_88888372c8624be5b2e489c4fa31264b"
          }
        },
        "df9c1de27c1c47858fcd601add5d51ad": {
          "model_module": "@jupyter-widgets/controls",
          "model_name": "DescriptionStyleModel",
          "model_module_version": "1.5.0",
          "state": {
            "_view_name": "StyleView",
            "_model_name": "DescriptionStyleModel",
            "description_width": "",
            "_view_module": "@jupyter-widgets/base",
            "_model_module_version": "1.5.0",
            "_view_count": null,
            "_view_module_version": "1.2.0",
            "_model_module": "@jupyter-widgets/controls"
          }
        },
        "e5da3717c2d04102b19c2d0cc4668953": {
          "model_module": "@jupyter-widgets/base",
          "model_name": "LayoutModel",
          "model_module_version": "1.2.0",
          "state": {
            "_view_name": "LayoutView",
            "grid_template_rows": null,
            "right": null,
            "justify_content": null,
            "_view_module": "@jupyter-widgets/base",
            "overflow": null,
            "_model_module_version": "1.2.0",
            "_view_count": null,
            "flex_flow": null,
            "width": null,
            "min_width": null,
            "border": null,
            "align_items": null,
            "bottom": null,
            "_model_module": "@jupyter-widgets/base",
            "top": null,
            "grid_column": null,
            "overflow_y": null,
            "overflow_x": null,
            "grid_auto_flow": null,
            "grid_area": null,
            "grid_template_columns": null,
            "flex": null,
            "_model_name": "LayoutModel",
            "justify_items": null,
            "grid_row": null,
            "max_height": null,
            "align_content": null,
            "visibility": null,
            "align_self": null,
            "height": null,
            "min_height": null,
            "padding": null,
            "grid_auto_rows": null,
            "grid_gap": null,
            "max_width": null,
            "order": null,
            "_view_module_version": "1.2.0",
            "grid_template_areas": null,
            "object_position": null,
            "object_fit": null,
            "grid_auto_columns": null,
            "margin": null,
            "display": null,
            "left": null
          }
        },
        "5c9d992a3bc74d8b867e29744d61d793": {
          "model_module": "@jupyter-widgets/controls",
          "model_name": "ButtonStyleModel",
          "model_module_version": "1.5.0",
          "state": {
            "_view_name": "StyleView",
            "_model_name": "ButtonStyleModel",
            "_view_module": "@jupyter-widgets/base",
            "_model_module_version": "1.5.0",
            "_view_count": null,
            "button_color": null,
            "font_weight": "",
            "_view_module_version": "1.2.0",
            "_model_module": "@jupyter-widgets/controls"
          }
        },
        "10c1c34edd824d0dbf49e29ee06306bb": {
          "model_module": "@jupyter-widgets/base",
          "model_name": "LayoutModel",
          "model_module_version": "1.2.0",
          "state": {
            "_view_name": "LayoutView",
            "grid_template_rows": null,
            "right": null,
            "justify_content": null,
            "_view_module": "@jupyter-widgets/base",
            "overflow": null,
            "_model_module_version": "1.2.0",
            "_view_count": null,
            "flex_flow": null,
            "width": null,
            "min_width": null,
            "border": null,
            "align_items": null,
            "bottom": null,
            "_model_module": "@jupyter-widgets/base",
            "top": null,
            "grid_column": null,
            "overflow_y": null,
            "overflow_x": null,
            "grid_auto_flow": null,
            "grid_area": null,
            "grid_template_columns": null,
            "flex": null,
            "_model_name": "LayoutModel",
            "justify_items": null,
            "grid_row": null,
            "max_height": null,
            "align_content": null,
            "visibility": null,
            "align_self": null,
            "height": null,
            "min_height": null,
            "padding": null,
            "grid_auto_rows": null,
            "grid_gap": null,
            "max_width": null,
            "order": null,
            "_view_module_version": "1.2.0",
            "grid_template_areas": null,
            "object_position": null,
            "object_fit": null,
            "grid_auto_columns": null,
            "margin": null,
            "display": null,
            "left": null
          }
        },
        "a1dba694eed540e4bd29e2f87601190d": {
          "model_module": "@jupyter-widgets/controls",
          "model_name": "ButtonStyleModel",
          "model_module_version": "1.5.0",
          "state": {
            "_view_name": "StyleView",
            "_model_name": "ButtonStyleModel",
            "_view_module": "@jupyter-widgets/base",
            "_model_module_version": "1.5.0",
            "_view_count": null,
            "button_color": null,
            "font_weight": "",
            "_view_module_version": "1.2.0",
            "_model_module": "@jupyter-widgets/controls"
          }
        },
        "a5b0925183eb48ceaa338782e0533e29": {
          "model_module": "@jupyter-widgets/base",
          "model_name": "LayoutModel",
          "model_module_version": "1.2.0",
          "state": {
            "_view_name": "LayoutView",
            "grid_template_rows": null,
            "right": null,
            "justify_content": null,
            "_view_module": "@jupyter-widgets/base",
            "overflow": null,
            "_model_module_version": "1.2.0",
            "_view_count": null,
            "flex_flow": null,
            "width": null,
            "min_width": null,
            "border": null,
            "align_items": null,
            "bottom": null,
            "_model_module": "@jupyter-widgets/base",
            "top": null,
            "grid_column": null,
            "overflow_y": null,
            "overflow_x": null,
            "grid_auto_flow": null,
            "grid_area": null,
            "grid_template_columns": null,
            "flex": null,
            "_model_name": "LayoutModel",
            "justify_items": null,
            "grid_row": null,
            "max_height": null,
            "align_content": null,
            "visibility": null,
            "align_self": null,
            "height": null,
            "min_height": null,
            "padding": null,
            "grid_auto_rows": null,
            "grid_gap": null,
            "max_width": null,
            "order": null,
            "_view_module_version": "1.2.0",
            "grid_template_areas": null,
            "object_position": null,
            "object_fit": null,
            "grid_auto_columns": null,
            "margin": null,
            "display": null,
            "left": null
          }
        },
        "c1dff6c4ebc24aa8a9f9be9de4912e11": {
          "model_module": "@jupyter-widgets/controls",
          "model_name": "DescriptionStyleModel",
          "model_module_version": "1.5.0",
          "state": {
            "_view_name": "StyleView",
            "_model_name": "DescriptionStyleModel",
            "description_width": "",
            "_view_module": "@jupyter-widgets/base",
            "_model_module_version": "1.5.0",
            "_view_count": null,
            "_view_module_version": "1.2.0",
            "_model_module": "@jupyter-widgets/controls"
          }
        },
        "88888372c8624be5b2e489c4fa31264b": {
          "model_module": "@jupyter-widgets/base",
          "model_name": "LayoutModel",
          "model_module_version": "1.2.0",
          "state": {
            "_view_name": "LayoutView",
            "grid_template_rows": null,
            "right": null,
            "justify_content": null,
            "_view_module": "@jupyter-widgets/base",
            "overflow": null,
            "_model_module_version": "1.2.0",
            "_view_count": null,
            "flex_flow": null,
            "width": null,
            "min_width": null,
            "border": null,
            "align_items": null,
            "bottom": null,
            "_model_module": "@jupyter-widgets/base",
            "top": null,
            "grid_column": null,
            "overflow_y": null,
            "overflow_x": null,
            "grid_auto_flow": null,
            "grid_area": null,
            "grid_template_columns": null,
            "flex": null,
            "_model_name": "LayoutModel",
            "justify_items": null,
            "grid_row": null,
            "max_height": null,
            "align_content": null,
            "visibility": null,
            "align_self": null,
            "height": null,
            "min_height": null,
            "padding": null,
            "grid_auto_rows": null,
            "grid_gap": null,
            "max_width": null,
            "order": null,
            "_view_module_version": "1.2.0",
            "grid_template_areas": null,
            "object_position": null,
            "object_fit": null,
            "grid_auto_columns": null,
            "margin": null,
            "display": null,
            "left": null
          }
        },
        "3b3a642ab3a14eae85abf3edf473dc16": {
          "model_module": "@jupyter-widgets/base",
          "model_name": "LayoutModel",
          "model_module_version": "1.2.0",
          "state": {
            "_view_name": "LayoutView",
            "grid_template_rows": null,
            "right": null,
            "justify_content": null,
            "_view_module": "@jupyter-widgets/base",
            "overflow": null,
            "_model_module_version": "1.2.0",
            "_view_count": null,
            "flex_flow": null,
            "width": null,
            "min_width": null,
            "border": null,
            "align_items": null,
            "bottom": null,
            "_model_module": "@jupyter-widgets/base",
            "top": null,
            "grid_column": null,
            "overflow_y": null,
            "overflow_x": null,
            "grid_auto_flow": null,
            "grid_area": null,
            "grid_template_columns": null,
            "flex": null,
            "_model_name": "LayoutModel",
            "justify_items": null,
            "grid_row": null,
            "max_height": null,
            "align_content": null,
            "visibility": null,
            "align_self": null,
            "height": null,
            "min_height": null,
            "padding": null,
            "grid_auto_rows": null,
            "grid_gap": null,
            "max_width": null,
            "order": null,
            "_view_module_version": "1.2.0",
            "grid_template_areas": null,
            "object_position": null,
            "object_fit": null,
            "grid_auto_columns": null,
            "margin": null,
            "display": null,
            "left": null
          }
        }
      }
    },
    "interpreter": {
      "hash": "916dbcbb3f70747c44a77c7bcd40155683ae19c65e1c03b4aa3499c5328201f1"
    }
  },
  "cells": [
    {
      "cell_type": "code",
      "execution_count": 10,
      "source": [
        "from fastai.vision.all import *\n",
        "from fastai.vision.widgets import *\n",
        "\n",
        "path = Path()\n",
        "learn_inf = load_learner(path/'model.pkl')"
      ],
      "outputs": [],
      "metadata": {}
    },
    {
      "cell_type": "code",
      "execution_count": 11,
      "source": [
        "btn_upload = widgets.FileUpload()\n",
        "out_pl = widgets.Output()\n",
        "out_pl.clear_output()\n",
        "lbl_pred = widgets.Label()\n",
        "btn_run = widgets.Button(description='Classify')"
      ],
      "outputs": [],
      "metadata": {
        "id": "sFqMtZR6G9Ic"
      }
    },
    {
      "cell_type": "code",
      "execution_count": 12,
      "source": [
        "def on_click_classify(change):\n",
        "    img = PILImage.create(btn_upload.data[-1])\n",
        "    out_pl.clear_output()\n",
        "    with out_pl: display(img.to_thumb(128,128))\n",
        "    pred,pred_idx,probs = learn_inf.predict(img)\n",
        "    lbl_pred.value = f'Prediction: {pred}; Probability: {probs[pred_idx]:.04f}'\n",
        "\n",
        "btn_run.on_click(on_click_classify)"
      ],
      "outputs": [],
      "metadata": {
        "id": "Nn284XRqHALS"
      }
    },
    {
      "cell_type": "code",
      "execution_count": 9,
      "source": [
        "VBox([widgets.Label('Upload a picture!'), btn_upload, btn_run, out_pl, lbl_pred])"
      ],
      "outputs": [
        {
          "output_type": "display_data",
          "data": {
            "application/vnd.jupyter.widget-view+json": {
              "version_major": 2,
              "version_minor": 0,
              "model_id": "e8d6c949beb24abda2980fe039fbfe53"
            },
            "text/plain": [
              "VBox(children=(Label(value='Upload a picture!'), FileUpload(value={}, description='Upload'), Button(descriptio…"
            ]
          },
          "metadata": {}
        }
      ],
      "metadata": {
        "colab": {
          "base_uri": "https://localhost:8080/",
          "height": 213,
          "referenced_widgets": [
            "9a59c0ae70ff4375924a440b8d68ca12",
            "06eb109ba9b94c5ea331b51e04833dac",
            "f457e3ed8db446a992a72bf1eaa2cae0",
            "a2308af24c644111bea67fac2b20b32a",
            "36e33a1833754112b8e8ab84b4336c3f",
            "9c345adbba9c4c74bce2613cfa19163f",
            "b29cbd08b6b74819b62c9de5808d5bd2",
            "df9c1de27c1c47858fcd601add5d51ad",
            "e5da3717c2d04102b19c2d0cc4668953",
            "5c9d992a3bc74d8b867e29744d61d793",
            "10c1c34edd824d0dbf49e29ee06306bb",
            "a1dba694eed540e4bd29e2f87601190d",
            "a5b0925183eb48ceaa338782e0533e29",
            "c1dff6c4ebc24aa8a9f9be9de4912e11",
            "88888372c8624be5b2e489c4fa31264b",
            "3b3a642ab3a14eae85abf3edf473dc16"
          ]
        },
        "id": "Dks5cZAtHDEi",
        "outputId": "3db62d14-235e-4a1a-907d-5edc03ce3cda"
      }
    }
  ]
}